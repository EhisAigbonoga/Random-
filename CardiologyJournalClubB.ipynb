{
 "cells": [
  {
   "cell_type": "code",
   "execution_count": 1,
   "id": "6a6335d8",
   "metadata": {},
   "outputs": [],
   "source": [
    "import numpy as np\n",
    "import pandas as pd\n",
    "import matplotlib.pyplot as plt\n",
    "import seaborn as sbn\n",
    "from statsmodels.stats import weightstats\n",
    "import scipy.stats as stats\n",
    "df=pd.read_csv('newwww.csv')\n",
    "pd.set_option('display.max_columns', None)\n",
    "pd.set_option('display.max_rows', None)"
   ]
  },
  {
   "cell_type": "code",
   "execution_count": 2,
   "id": "3fb249e8",
   "metadata": {},
   "outputs": [],
   "source": [
    "#Dropping some unnecessary columns\n",
    "df.drop('Timestamp', axis=1, inplace=True)\n",
    "df.drop('Do you consent to participate in this study?', axis=1, inplace=True)\n",
    "df.drop('Who referred you to fill this questionnaire?', axis=1, inplace=True)\n",
    "df.drop('Waist/Hip ratio', axis=1, inplace=True)\n",
    "df.drop('Average Blood Pressure', axis=1, inplace=True)\n",
    "df.drop('BP Reading 1', axis=1, inplace=True)\n",
    "df.drop('Pulse 1', axis=1, inplace=True)\n",
    "df.drop('Body Mass Index', axis=1, inplace=True)"
   ]
  },
  {
   "cell_type": "code",
   "execution_count": 3,
   "id": "8475c2cc",
   "metadata": {},
   "outputs": [],
   "source": [
    "#Mean age and CI\n",
    "meanAge=df['Age at last birthday'].mean()\n",
    "#Margin of Error, Range of the Age\n",
    "#C=0.95\n",
    "#len=206\n",
    "std = df['Age at last birthday'].std()\n",
    "count=df['Age at last birthday'].count()\n",
    "def mof(C, std, count):\n",
    "    er = (std/count**0.5)*stats.norm.ppf(C+(1-C)/2,0,1)\n",
    "    return print(\"The Margin of Error is\", er)"
   ]
  },
  {
   "cell_type": "code",
   "execution_count": 4,
   "id": "feb97a02",
   "metadata": {},
   "outputs": [
    {
     "data": {
      "text/html": [
       "<div>\n",
       "<style scoped>\n",
       "    .dataframe tbody tr th:only-of-type {\n",
       "        vertical-align: middle;\n",
       "    }\n",
       "\n",
       "    .dataframe tbody tr th {\n",
       "        vertical-align: top;\n",
       "    }\n",
       "\n",
       "    .dataframe thead th {\n",
       "        text-align: right;\n",
       "    }\n",
       "</style>\n",
       "<table border=\"1\" class=\"dataframe\">\n",
       "  <thead>\n",
       "    <tr style=\"text-align: right;\">\n",
       "      <th>Level</th>\n",
       "      <th>2k17</th>\n",
       "      <th>2k18</th>\n",
       "      <th>2k19</th>\n",
       "      <th>2k21</th>\n",
       "      <th>300</th>\n",
       "      <th>400</th>\n",
       "      <th>500</th>\n",
       "      <th>600</th>\n",
       "      <th>All</th>\n",
       "    </tr>\n",
       "    <tr>\n",
       "      <th>Department</th>\n",
       "      <th></th>\n",
       "      <th></th>\n",
       "      <th></th>\n",
       "      <th></th>\n",
       "      <th></th>\n",
       "      <th></th>\n",
       "      <th></th>\n",
       "      <th></th>\n",
       "      <th></th>\n",
       "    </tr>\n",
       "  </thead>\n",
       "  <tbody>\n",
       "    <tr>\n",
       "      <th>Dentistry</th>\n",
       "      <td>9</td>\n",
       "      <td>12</td>\n",
       "      <td>5</td>\n",
       "      <td>5</td>\n",
       "      <td>6</td>\n",
       "      <td>10</td>\n",
       "      <td>3</td>\n",
       "      <td>8</td>\n",
       "      <td>58</td>\n",
       "    </tr>\n",
       "    <tr>\n",
       "      <th>Medical laboratory science</th>\n",
       "      <td>0</td>\n",
       "      <td>18</td>\n",
       "      <td>18</td>\n",
       "      <td>0</td>\n",
       "      <td>0</td>\n",
       "      <td>4</td>\n",
       "      <td>4</td>\n",
       "      <td>0</td>\n",
       "      <td>44</td>\n",
       "    </tr>\n",
       "    <tr>\n",
       "      <th>Medicine and Surgery</th>\n",
       "      <td>26</td>\n",
       "      <td>28</td>\n",
       "      <td>16</td>\n",
       "      <td>8</td>\n",
       "      <td>32</td>\n",
       "      <td>39</td>\n",
       "      <td>40</td>\n",
       "      <td>36</td>\n",
       "      <td>225</td>\n",
       "    </tr>\n",
       "    <tr>\n",
       "      <th>Physiotherapy</th>\n",
       "      <td>0</td>\n",
       "      <td>0</td>\n",
       "      <td>9</td>\n",
       "      <td>9</td>\n",
       "      <td>0</td>\n",
       "      <td>6</td>\n",
       "      <td>5</td>\n",
       "      <td>0</td>\n",
       "      <td>29</td>\n",
       "    </tr>\n",
       "    <tr>\n",
       "      <th>All</th>\n",
       "      <td>35</td>\n",
       "      <td>58</td>\n",
       "      <td>48</td>\n",
       "      <td>22</td>\n",
       "      <td>38</td>\n",
       "      <td>59</td>\n",
       "      <td>52</td>\n",
       "      <td>44</td>\n",
       "      <td>356</td>\n",
       "    </tr>\n",
       "  </tbody>\n",
       "</table>\n",
       "</div>"
      ],
      "text/plain": [
       "Level                       2k17  2k18  2k19  2k21  300  400  500  600  All\n",
       "Department                                                                 \n",
       "Dentistry                      9    12     5     5    6   10    3    8   58\n",
       "Medical laboratory science     0    18    18     0    0    4    4    0   44\n",
       "Medicine and Surgery          26    28    16     8   32   39   40   36  225\n",
       "Physiotherapy                  0     0     9     9    0    6    5    0   29\n",
       "All                           35    58    48    22   38   59   52   44  356"
      ]
     },
     "execution_count": 4,
     "metadata": {},
     "output_type": "execute_result"
    }
   ],
   "source": [
    "pd.crosstab(index=df['Department'], \n",
    "                     columns=df['Level'], margins=True)"
   ]
  },
  {
   "cell_type": "code",
   "execution_count": 5,
   "id": "e409fd89",
   "metadata": {},
   "outputs": [
    {
     "ename": "KeyError",
     "evalue": "'Ethnicity'",
     "output_type": "error",
     "traceback": [
      "\u001b[0;31m---------------------------------------------------------------------------\u001b[0m",
      "\u001b[0;31mKeyError\u001b[0m                                  Traceback (most recent call last)",
      "File \u001b[0;32m~/opt/anaconda3/lib/python3.9/site-packages/pandas/core/indexes/base.py:3621\u001b[0m, in \u001b[0;36mIndex.get_loc\u001b[0;34m(self, key, method, tolerance)\u001b[0m\n\u001b[1;32m   3620\u001b[0m \u001b[38;5;28;01mtry\u001b[39;00m:\n\u001b[0;32m-> 3621\u001b[0m     \u001b[38;5;28;01mreturn\u001b[39;00m \u001b[38;5;28;43mself\u001b[39;49m\u001b[38;5;241;43m.\u001b[39;49m\u001b[43m_engine\u001b[49m\u001b[38;5;241;43m.\u001b[39;49m\u001b[43mget_loc\u001b[49m\u001b[43m(\u001b[49m\u001b[43mcasted_key\u001b[49m\u001b[43m)\u001b[49m\n\u001b[1;32m   3622\u001b[0m \u001b[38;5;28;01mexcept\u001b[39;00m \u001b[38;5;167;01mKeyError\u001b[39;00m \u001b[38;5;28;01mas\u001b[39;00m err:\n",
      "File \u001b[0;32m~/opt/anaconda3/lib/python3.9/site-packages/pandas/_libs/index.pyx:136\u001b[0m, in \u001b[0;36mpandas._libs.index.IndexEngine.get_loc\u001b[0;34m()\u001b[0m\n",
      "File \u001b[0;32m~/opt/anaconda3/lib/python3.9/site-packages/pandas/_libs/index.pyx:163\u001b[0m, in \u001b[0;36mpandas._libs.index.IndexEngine.get_loc\u001b[0;34m()\u001b[0m\n",
      "File \u001b[0;32mpandas/_libs/hashtable_class_helper.pxi:5198\u001b[0m, in \u001b[0;36mpandas._libs.hashtable.PyObjectHashTable.get_item\u001b[0;34m()\u001b[0m\n",
      "File \u001b[0;32mpandas/_libs/hashtable_class_helper.pxi:5206\u001b[0m, in \u001b[0;36mpandas._libs.hashtable.PyObjectHashTable.get_item\u001b[0;34m()\u001b[0m\n",
      "\u001b[0;31mKeyError\u001b[0m: 'Ethnicity'",
      "\nThe above exception was the direct cause of the following exception:\n",
      "\u001b[0;31mKeyError\u001b[0m                                  Traceback (most recent call last)",
      "Input \u001b[0;32mIn [5]\u001b[0m, in \u001b[0;36m<cell line: 18>\u001b[0;34m()\u001b[0m\n\u001b[1;32m     15\u001b[0m Lev\u001b[38;5;241m=\u001b[39mpd\u001b[38;5;241m.\u001b[39mcrosstab(index\u001b[38;5;241m=\u001b[39mdf[\u001b[38;5;124m'\u001b[39m\u001b[38;5;124mLevel\u001b[39m\u001b[38;5;124m'\u001b[39m], columns\u001b[38;5;241m=\u001b[39mdf[\u001b[38;5;124m'\u001b[39m\u001b[38;5;124mDepartment\u001b[39m\u001b[38;5;124m'\u001b[39m], margins\u001b[38;5;241m=\u001b[39m\u001b[38;5;28;01mTrue\u001b[39;00m)\n\u001b[1;32m     16\u001b[0m LevP\u001b[38;5;241m=\u001b[39m(Lev\u001b[38;5;241m/\u001b[39m\u001b[38;5;241m206\u001b[39m)\u001b[38;5;241m*\u001b[39m\u001b[38;5;241m100\u001b[39m\n\u001b[0;32m---> 18\u001b[0m ethnicity\u001b[38;5;241m=\u001b[39mpd\u001b[38;5;241m.\u001b[39mcrosstab(index\u001b[38;5;241m=\u001b[39m\u001b[43mdf\u001b[49m\u001b[43m[\u001b[49m\u001b[38;5;124;43m'\u001b[39;49m\u001b[38;5;124;43mEthnicity\u001b[39;49m\u001b[38;5;124;43m'\u001b[39;49m\u001b[43m]\u001b[49m, columns\u001b[38;5;241m=\u001b[39mdf[\u001b[38;5;124m'\u001b[39m\u001b[38;5;124mDepartment\u001b[39m\u001b[38;5;124m'\u001b[39m], margins\u001b[38;5;241m=\u001b[39m\u001b[38;5;28;01mTrue\u001b[39;00m)\n\u001b[1;32m     19\u001b[0m ethnicityP\u001b[38;5;241m=\u001b[39m(ethnicity\u001b[38;5;241m/\u001b[39m\u001b[38;5;241m206\u001b[39m)\u001b[38;5;241m*\u001b[39m\u001b[38;5;241m100\u001b[39m\n\u001b[1;32m     21\u001b[0m Religion\u001b[38;5;241m=\u001b[39mpd\u001b[38;5;241m.\u001b[39mcrosstab(index\u001b[38;5;241m=\u001b[39mdf[\u001b[38;5;124m'\u001b[39m\u001b[38;5;124mReligion\u001b[39m\u001b[38;5;124m'\u001b[39m], columns\u001b[38;5;241m=\u001b[39mdf[\u001b[38;5;124m'\u001b[39m\u001b[38;5;124mDepartment\u001b[39m\u001b[38;5;124m'\u001b[39m], margins\u001b[38;5;241m=\u001b[39m\u001b[38;5;28;01mTrue\u001b[39;00m)\n",
      "File \u001b[0;32m~/opt/anaconda3/lib/python3.9/site-packages/pandas/core/frame.py:3505\u001b[0m, in \u001b[0;36mDataFrame.__getitem__\u001b[0;34m(self, key)\u001b[0m\n\u001b[1;32m   3503\u001b[0m \u001b[38;5;28;01mif\u001b[39;00m \u001b[38;5;28mself\u001b[39m\u001b[38;5;241m.\u001b[39mcolumns\u001b[38;5;241m.\u001b[39mnlevels \u001b[38;5;241m>\u001b[39m \u001b[38;5;241m1\u001b[39m:\n\u001b[1;32m   3504\u001b[0m     \u001b[38;5;28;01mreturn\u001b[39;00m \u001b[38;5;28mself\u001b[39m\u001b[38;5;241m.\u001b[39m_getitem_multilevel(key)\n\u001b[0;32m-> 3505\u001b[0m indexer \u001b[38;5;241m=\u001b[39m \u001b[38;5;28;43mself\u001b[39;49m\u001b[38;5;241;43m.\u001b[39;49m\u001b[43mcolumns\u001b[49m\u001b[38;5;241;43m.\u001b[39;49m\u001b[43mget_loc\u001b[49m\u001b[43m(\u001b[49m\u001b[43mkey\u001b[49m\u001b[43m)\u001b[49m\n\u001b[1;32m   3506\u001b[0m \u001b[38;5;28;01mif\u001b[39;00m is_integer(indexer):\n\u001b[1;32m   3507\u001b[0m     indexer \u001b[38;5;241m=\u001b[39m [indexer]\n",
      "File \u001b[0;32m~/opt/anaconda3/lib/python3.9/site-packages/pandas/core/indexes/base.py:3623\u001b[0m, in \u001b[0;36mIndex.get_loc\u001b[0;34m(self, key, method, tolerance)\u001b[0m\n\u001b[1;32m   3621\u001b[0m     \u001b[38;5;28;01mreturn\u001b[39;00m \u001b[38;5;28mself\u001b[39m\u001b[38;5;241m.\u001b[39m_engine\u001b[38;5;241m.\u001b[39mget_loc(casted_key)\n\u001b[1;32m   3622\u001b[0m \u001b[38;5;28;01mexcept\u001b[39;00m \u001b[38;5;167;01mKeyError\u001b[39;00m \u001b[38;5;28;01mas\u001b[39;00m err:\n\u001b[0;32m-> 3623\u001b[0m     \u001b[38;5;28;01mraise\u001b[39;00m \u001b[38;5;167;01mKeyError\u001b[39;00m(key) \u001b[38;5;28;01mfrom\u001b[39;00m \u001b[38;5;21;01merr\u001b[39;00m\n\u001b[1;32m   3624\u001b[0m \u001b[38;5;28;01mexcept\u001b[39;00m \u001b[38;5;167;01mTypeError\u001b[39;00m:\n\u001b[1;32m   3625\u001b[0m     \u001b[38;5;66;03m# If we have a listlike key, _check_indexing_error will raise\u001b[39;00m\n\u001b[1;32m   3626\u001b[0m     \u001b[38;5;66;03m#  InvalidIndexError. Otherwise we fall through and re-raise\u001b[39;00m\n\u001b[1;32m   3627\u001b[0m     \u001b[38;5;66;03m#  the TypeError.\u001b[39;00m\n\u001b[1;32m   3628\u001b[0m     \u001b[38;5;28mself\u001b[39m\u001b[38;5;241m.\u001b[39m_check_indexing_error(key)\n",
      "\u001b[0;31mKeyError\u001b[0m: 'Ethnicity'"
     ]
    }
   ],
   "source": [
    "#Sociodemographics variables desciptive analysis\n",
    "\n",
    "#Sociodemographic charateristics\n",
    "ageL=pd.crosstab(index=df['Age at last birthday'] <= 25, columns=df['Department'], margins=True)\n",
    "agePL=(ageL/206)*100\n",
    "ageH=pd.crosstab(index=df['Age at last birthday'] >= 26, columns=df['Department'], margins=True)\n",
    "agePH=(ageH/206)*100\n",
    "\n",
    "sex=pd.crosstab(index=df['Sex'], columns=df['Department'], margins=True)\n",
    "sexP=(sex/206)*100\n",
    "\n",
    "MS=pd.crosstab(index=df['Marital status'], columns=df['Department'], margins=True)\n",
    "MSP=(MS/206)*100\n",
    "\n",
    "Lev=pd.crosstab(index=df['Level'], columns=df['Department'], margins=True)\n",
    "LevP=(Lev/206)*100\n",
    "\n",
    "ethnicity=pd.crosstab(index=df['Ethnicity'], columns=df['Department'], margins=True)\n",
    "ethnicityP=(ethnicity/206)*100\n",
    "\n",
    "Religion=pd.crosstab(index=df['Religion'], columns=df['Department'], margins=True)\n",
    "ReligionP=(Religion/206)*100\n",
    "\n",
    "Income=pd.crosstab(index=df[\"Parent's monthly income range\"], columns=df['Department'], margins=True)\n",
    "IncomeP=(Income/206)*100"
   ]
  },
  {
   "cell_type": "code",
   "execution_count": null,
   "id": "8b26b7e8",
   "metadata": {},
   "outputs": [],
   "source": [
    "#PREVIOUS CLINICAL DETAILS\n",
    "diabetes=pd.crosstab(index=df['Have you been previously diagnosed of diabetes mellitus?'], \n",
    "                     columns='count', margins=True)\n",
    "kidney=pd.crosstab(index=df['Have you been previously diagnosed of kidney disease?'], \n",
    "                   columns='count', margins=True)\n",
    "hypertension=pd.crosstab(index=df['Have you been previously diagnosed of hypertension?'], \n",
    "                   columns='count', margins=True)\n",
    "Whenhypertension=pd.crosstab(index=df['When were you diagnosed of hypertension?'], \n",
    "                   columns='count', margins=True)\n",
    "#AreHypertensionDrug=pd.crosstab(index=df['Are you on antihypertensive medication?'], \n",
    "                   #columns='count', margins=True)\n",
    "#RegularlyHypertensionDrug=pd.crosstab(index=df['Are you using your anti-hypertensive medications regularly?'], \n",
    "                   #columns='count', margins=True)\n"
   ]
  },
  {
   "cell_type": "code",
   "execution_count": null,
   "id": "93a756cd",
   "metadata": {},
   "outputs": [],
   "source": [
    "#creating new systolic and diastolic columns\n",
    "df['systolic_2']= df['BP Reading 2'].apply(lambda x:int(str(x).split('/')[0]))\n",
    "df['diastolic_2']= df['BP Reading 2'].apply(lambda x:int(str(x).split('/')[1]))\n",
    "\n",
    "df['systolic_3']= df['BP Reading 3'].apply(lambda x:int(str(x).split('/')[0]))\n",
    "df['diastolic_3']= df['BP Reading 3'].apply(lambda x:int(str(x).split('/')[1]))"
   ]
  },
  {
   "cell_type": "code",
   "execution_count": null,
   "id": "400e871b",
   "metadata": {},
   "outputs": [],
   "source": [
    "df.head()"
   ]
  },
  {
   "cell_type": "code",
   "execution_count": null,
   "id": "2b12459d",
   "metadata": {},
   "outputs": [],
   "source": [
    "#Creating new columns for average systolic and average diastolic\n",
    "df['Systolic_Average']=(df['systolic_2'] + df['systolic_3'])/2\n",
    "df['Diastolic_Average']=(df['diastolic_2'] + df['diastolic_3'])/2"
   ]
  },
  {
   "cell_type": "code",
   "execution_count": null,
   "id": "1c36ba61",
   "metadata": {},
   "outputs": [],
   "source": [
    "df['Systolic_Average'].mean()"
   ]
  },
  {
   "cell_type": "code",
   "execution_count": null,
   "id": "896b5028",
   "metadata": {},
   "outputs": [],
   "source": [
    "#Mean Systolic average and CI\n",
    "MeanSystolic=df['Systolic_Average'].mean()\n",
    "#Margin of Error, Range of the Age\n",
    "#C=0.95\n",
    "#len=206\n",
    "std = df['Systolic_Average'].std()\n",
    "count=df['Systolic_Average'].count()\n",
    "def mof(C, std, count):\n",
    "    er = (std/count**0.5)*stats.norm.ppf(C+(1-C)/2,0,1)\n",
    "    return print(\"The Margin of Error is\", er)"
   ]
  },
  {
   "cell_type": "code",
   "execution_count": null,
   "id": "2b984f0c",
   "metadata": {},
   "outputs": [],
   "source": [
    "MeanSystolic"
   ]
  },
  {
   "cell_type": "code",
   "execution_count": null,
   "id": "04f93558",
   "metadata": {},
   "outputs": [],
   "source": [
    "mof(0.95, std, count)"
   ]
  },
  {
   "cell_type": "code",
   "execution_count": null,
   "id": "e6259a8a",
   "metadata": {},
   "outputs": [],
   "source": [
    "#Mean Diastolic average and CI\n",
    "MeanDiastolic=df['Diastolic_Average'].mean()\n",
    "#Margin of Error, Range of the Age\n",
    "#C=0.95\n",
    "#len=206\n",
    "std = df['Diastolic_Average'].std()\n",
    "count=df['Diastolic_Average'].count()\n",
    "def mof(C, std, count):\n",
    "    er = (std/count**0.5)*stats.norm.ppf(C+(1-C)/2,0,1)\n",
    "    return print(\"The Margin of Error is\", er)"
   ]
  },
  {
   "cell_type": "code",
   "execution_count": null,
   "id": "b458292b",
   "metadata": {},
   "outputs": [],
   "source": [
    "MeanDiastolic"
   ]
  },
  {
   "cell_type": "code",
   "execution_count": null,
   "id": "921105f9",
   "metadata": {},
   "outputs": [],
   "source": [
    "mof(0.95, std, count)"
   ]
  },
  {
   "cell_type": "code",
   "execution_count": null,
   "id": "d824db78",
   "metadata": {},
   "outputs": [],
   "source": [
    "#frequency of systolic hypertension and diastolic hypertension.\n",
    "##systolic >= 140 is hypertensive and or diastolic >=90 is hypertensive\n",
    "sysCount=pd.crosstab(index=df['Systolic_Average']>=140, columns='count', margins=True)\n",
    "diaCount=pd.crosstab(index=df['Diastolic_Average']>=90, columns='count', margins=True)\n",
    "\n",
    "#New Row for hypertensive and non hypertensives.\n",
    "\n"
   ]
  },
  {
   "cell_type": "code",
   "execution_count": null,
   "id": "9f56b32c",
   "metadata": {},
   "outputs": [],
   "source": [
    "#Hypertensive and non hypertensives across sociodemographics variables\n",
    "S=pd.crosstab(index=df['NEW'], \n",
    "            columns=df['Is your father hypertensive?'], margins=True)\n"
   ]
  },
  {
   "cell_type": "code",
   "execution_count": null,
   "id": "aef5e5b8",
   "metadata": {
    "scrolled": true
   },
   "outputs": [],
   "source": [
    "#############"
   ]
  },
  {
   "cell_type": "code",
   "execution_count": null,
   "id": "9d097287",
   "metadata": {},
   "outputs": [],
   "source": []
  },
  {
   "cell_type": "code",
   "execution_count": null,
   "id": "a5d72f9c",
   "metadata": {},
   "outputs": [],
   "source": []
  },
  {
   "cell_type": "code",
   "execution_count": null,
   "id": "534a9475",
   "metadata": {},
   "outputs": [],
   "source": [
    "pd.crosstab(index=df['Is any of your grandparent hypertensive?'], \n",
    "            columns='counts', margins=True)"
   ]
  },
  {
   "cell_type": "code",
   "execution_count": null,
   "id": "2cc577a8",
   "metadata": {},
   "outputs": [],
   "source": []
  },
  {
   "cell_type": "code",
   "execution_count": null,
   "id": "d86b3828",
   "metadata": {
    "scrolled": true
   },
   "outputs": [],
   "source": [
    "df.head()"
   ]
  },
  {
   "cell_type": "code",
   "execution_count": null,
   "id": "4d5fab78",
   "metadata": {},
   "outputs": [],
   "source": [
    "df['BMI']=df['Weight (in kilograms)']/(df['Height (in metres)']**2)"
   ]
  },
  {
   "cell_type": "code",
   "execution_count": null,
   "id": "97f803b3",
   "metadata": {},
   "outputs": [],
   "source": [
    "pd.crosstab(index=df['BMI'] < 18.5, \n",
    "            columns='counts, margins=True')"
   ]
  },
  {
   "cell_type": "code",
   "execution_count": null,
   "id": "5d78fa99",
   "metadata": {},
   "outputs": [],
   "source": [
    "161-23"
   ]
  },
  {
   "cell_type": "code",
   "execution_count": null,
   "id": "1c8d466b",
   "metadata": {},
   "outputs": [],
   "source": [
    "#Chi Square test to check for significance of Hypertension with Age\n",
    "HypAge=np.array([[15, 163], [6, 22]])\n",
    "\n",
    "\n",
    "#Chi Square test to check for significance of Hypertension with Gender\n",
    "HypGender=np.array([[19, 113], [2, 72]])\n",
    "\n",
    "#Chi Square test to check for significance of Hypertension with Department\n",
    "HypDep=np.array([[6, 24], [0, 10], [15, 135], [0, 16]])\n",
    "\n",
    "#Chi Square test to check for significance of Hypertension with Level of study\n",
    "HypLev=np.array([[8, 35], [0, 64], [5, 52], [8, 34]])\n",
    "\n",
    "\n",
    "#Chi Square test to check for significance of Hypertensionwith Religion\n",
    "HypReli=np.array([[20, 159], [1, 26]])\n",
    "\n",
    "\n",
    "#Chi Square test to check for significance of Hypertension with Ethnicity\n",
    "HypEthni=np.array([[14, 135], [6, 40], [1, 10]])\n",
    "\n",
    "#Chi Square test to check for significance of Hypertension with Marital Status\n",
    "HypMS=np.array([[21, 181], [0, 4]])\n",
    "\n",
    "#Chi Square test to check for significance of Hypertension with Income\n",
    "HypIncome=np.array([[4, 31], [8, 95], [6, 36], [2, 22]])\n"
   ]
  },
  {
   "cell_type": "code",
   "execution_count": null,
   "id": "2fc1c072",
   "metadata": {},
   "outputs": [],
   "source": [
    "stats.chi2_contingency(HypIncome)"
   ]
  },
  {
   "cell_type": "code",
   "execution_count": null,
   "id": "eeb7bdd6",
   "metadata": {},
   "outputs": [],
   "source": [
    "def per(a):\n",
    "    uu=(a/206)*100\n",
    "    print(uu)"
   ]
  },
  {
   "cell_type": "code",
   "execution_count": null,
   "id": "c8f58e13",
   "metadata": {},
   "outputs": [],
   "source": [
    "11+67+20"
   ]
  },
  {
   "cell_type": "code",
   "execution_count": null,
   "id": "7cfd0b8f",
   "metadata": {},
   "outputs": [],
   "source": [
    "data = [10, 68, 20, 2]\n",
    "keys = ['Underweight', 'Normal weight','Over weight', 'Obese']\n",
    "  \n",
    "# declaring exploding pie\n",
    "explode = [0.1, 0.1]\n",
    "# define Seaborn color palette to use\n",
    "palette_color = sbn.color_palette('bright')\n",
    "  \n",
    "# plotting data on chart\n",
    "plt.pie(data, labels=keys, colors=palette_color,\n",
    "       autopct='%.0f%%')\n",
    "plt.title('Body Mass Index')\n",
    "  \n",
    "# displaying chart\n",
    "plt.show()"
   ]
  },
  {
   "cell_type": "code",
   "execution_count": null,
   "id": "2ede3ebf",
   "metadata": {},
   "outputs": [],
   "source": []
  },
  {
   "cell_type": "code",
   "execution_count": null,
   "id": "89765f07",
   "metadata": {},
   "outputs": [],
   "source": []
  },
  {
   "cell_type": "code",
   "execution_count": null,
   "id": "8cf20ea7",
   "metadata": {},
   "outputs": [],
   "source": [
    "df.head()"
   ]
  },
  {
   "cell_type": "code",
   "execution_count": null,
   "id": "4acaec0c",
   "metadata": {},
   "outputs": [],
   "source": [
    "#Sum of the PSS\n",
    "df['PSS']=df['First']+df['Second']+df['Third']+df['Fourth']+df['Fifth']+df['Sixth']+df['Seventh']+df['Eight']+df['Ninth']+df['Tenth']"
   ]
  },
  {
   "cell_type": "code",
   "execution_count": null,
   "id": "3a2d40a8",
   "metadata": {},
   "outputs": [],
   "source": [
    "df"
   ]
  },
  {
   "cell_type": "code",
   "execution_count": null,
   "id": "df44f7fe",
   "metadata": {},
   "outputs": [],
   "source": [
    "df['PSS'].mean()"
   ]
  },
  {
   "cell_type": "code",
   "execution_count": null,
   "id": "487c5de6",
   "metadata": {},
   "outputs": [],
   "source": [
    "#Mean PSS average and CI\n",
    "MeanPSS=df['PSS'].mean()\n",
    "#Margin of Error, Range of the Age\n",
    "#C=0.95\n",
    "#len=206\n",
    "stdPSS = df['PSS'].std()\n",
    "countPSS=df['PSS'].count()\n",
    "def mofPSS(C, stdPSS, countPSS):\n",
    "    er = (stdPSS/count**0.5)*stats.norm.ppf(C+(1-C)/2,0,1)\n",
    "    return print(\"The Margin of Error is\", er)"
   ]
  },
  {
   "cell_type": "code",
   "execution_count": null,
   "id": "cefb79c4",
   "metadata": {},
   "outputs": [],
   "source": [
    "mofPSS(0.95, stdPSS, countPSS)"
   ]
  },
  {
   "cell_type": "code",
   "execution_count": null,
   "id": "95b90904",
   "metadata": {},
   "outputs": [],
   "source": [
    "pd.crosstab(index=df['PSS']>26, columns='count', margins=True)"
   ]
  },
  {
   "cell_type": "code",
   "execution_count": null,
   "id": "4db678d6",
   "metadata": {},
   "outputs": [],
   "source": [
    "185-49"
   ]
  },
  {
   "cell_type": "code",
   "execution_count": null,
   "id": "7e8fe418",
   "metadata": {},
   "outputs": [],
   "source": [
    "21/206"
   ]
  },
  {
   "cell_type": "code",
   "execution_count": null,
   "id": "ffd97f3d",
   "metadata": {},
   "outputs": [],
   "source": [
    "df.head()"
   ]
  },
  {
   "cell_type": "code",
   "execution_count": null,
   "id": "f700885b",
   "metadata": {},
   "outputs": [],
   "source": [
    "pd.crosstab(index=df['Is any of your grandparent hypertensive?'], columns=df['H/N/P'])"
   ]
  },
  {
   "cell_type": "code",
   "execution_count": null,
   "id": "1b414cda",
   "metadata": {},
   "outputs": [],
   "source": [
    "df.head()"
   ]
  },
  {
   "cell_type": "code",
   "execution_count": null,
   "id": "03fb7f34",
   "metadata": {},
   "outputs": [],
   "source": [
    "206-21"
   ]
  },
  {
   "cell_type": "code",
   "execution_count": null,
   "id": "73551b8a",
   "metadata": {
    "scrolled": true
   },
   "outputs": [],
   "source": [
    "pd.crosstab(index=df['Age at last birthday']<=25, \n",
    "            columns=df['H/N/P'], margins=True)"
   ]
  },
  {
   "cell_type": "code",
   "execution_count": null,
   "id": "ca6af1bc",
   "metadata": {},
   "outputs": [],
   "source": [
    "#Chi Square test to check for significance of PreHypertension with Age\n",
    "PreAge=np.array([[20, 143], [4, 18]])\n",
    "\n",
    "\n",
    "#Chi Square test to check for significance of PreHypertension with Gender\n",
    "PreGender=np.array([[22, 91], [2, 70]])\n",
    "\n",
    "#Chi Square test to check for significance of PreHypertension with Department\n",
    "PreDep=np.array([[3, 21], [1, 9], [18, 117], [2, 14]])\n",
    "\n",
    "#Chi Square test to check for significance of PreHypertension with Level of study\n",
    "PreLev=np.array([[2, 33], [5, 59], [8, 44], [9, 25]])\n",
    "\n",
    "\n",
    "#Chi Square test to check for significance of PreHypertensionwith Religion\n",
    "PreReli=np.array([[22, 137], [2, 24]])\n",
    "\n",
    "\n",
    "#Chi Square test to check for significance of PreHypertension with Ethnicity\n",
    "PreEthni=np.array([[12, 123], [9, 31], [3, 7]])\n",
    "\n",
    "#Chi Square test to check for significance of PreHypertension with Marital Status\n",
    "PreMS=np.array([[23, 158], [1, 3]])\n",
    "\n",
    "#Chi Square test to check for significance of PreHypertension with Income\n",
    "PreIncome=np.array([[3, 28], [12, 83], [5, 31], [4, 18]])\n"
   ]
  },
  {
   "cell_type": "code",
   "execution_count": null,
   "id": "db483199",
   "metadata": {},
   "outputs": [],
   "source": [
    "stats.fisher_exact(PreMS)"
   ]
  },
  {
   "cell_type": "code",
   "execution_count": null,
   "id": "29f20fe5",
   "metadata": {},
   "outputs": [],
   "source": [
    "stats.chi2_contingency(PreIncome)"
   ]
  },
  {
   "cell_type": "code",
   "execution_count": null,
   "id": "ddbe4a17",
   "metadata": {},
   "outputs": [],
   "source": [
    "df.head()"
   ]
  },
  {
   "cell_type": "code",
   "execution_count": 6,
   "id": "1cdcfba9",
   "metadata": {},
   "outputs": [
    {
     "data": {
      "text/html": [
       "<div>\n",
       "<style scoped>\n",
       "    .dataframe tbody tr th:only-of-type {\n",
       "        vertical-align: middle;\n",
       "    }\n",
       "\n",
       "    .dataframe tbody tr th {\n",
       "        vertical-align: top;\n",
       "    }\n",
       "\n",
       "    .dataframe thead th {\n",
       "        text-align: right;\n",
       "    }\n",
       "</style>\n",
       "<table border=\"1\" class=\"dataframe\">\n",
       "  <thead>\n",
       "    <tr style=\"text-align: right;\">\n",
       "      <th>Level</th>\n",
       "      <th>2k17</th>\n",
       "      <th>2k18</th>\n",
       "      <th>2k19</th>\n",
       "      <th>2k21</th>\n",
       "      <th>300</th>\n",
       "      <th>400</th>\n",
       "      <th>500</th>\n",
       "      <th>600</th>\n",
       "      <th>All</th>\n",
       "    </tr>\n",
       "    <tr>\n",
       "      <th>Department</th>\n",
       "      <th></th>\n",
       "      <th></th>\n",
       "      <th></th>\n",
       "      <th></th>\n",
       "      <th></th>\n",
       "      <th></th>\n",
       "      <th></th>\n",
       "      <th></th>\n",
       "      <th></th>\n",
       "    </tr>\n",
       "  </thead>\n",
       "  <tbody>\n",
       "    <tr>\n",
       "      <th>Dentistry</th>\n",
       "      <td>9</td>\n",
       "      <td>12</td>\n",
       "      <td>5</td>\n",
       "      <td>5</td>\n",
       "      <td>6</td>\n",
       "      <td>10</td>\n",
       "      <td>3</td>\n",
       "      <td>8</td>\n",
       "      <td>58</td>\n",
       "    </tr>\n",
       "    <tr>\n",
       "      <th>Medical laboratory science</th>\n",
       "      <td>0</td>\n",
       "      <td>18</td>\n",
       "      <td>18</td>\n",
       "      <td>0</td>\n",
       "      <td>0</td>\n",
       "      <td>4</td>\n",
       "      <td>4</td>\n",
       "      <td>0</td>\n",
       "      <td>44</td>\n",
       "    </tr>\n",
       "    <tr>\n",
       "      <th>Medicine and Surgery</th>\n",
       "      <td>26</td>\n",
       "      <td>28</td>\n",
       "      <td>16</td>\n",
       "      <td>8</td>\n",
       "      <td>32</td>\n",
       "      <td>39</td>\n",
       "      <td>40</td>\n",
       "      <td>36</td>\n",
       "      <td>225</td>\n",
       "    </tr>\n",
       "    <tr>\n",
       "      <th>Physiotherapy</th>\n",
       "      <td>0</td>\n",
       "      <td>0</td>\n",
       "      <td>9</td>\n",
       "      <td>9</td>\n",
       "      <td>0</td>\n",
       "      <td>6</td>\n",
       "      <td>5</td>\n",
       "      <td>0</td>\n",
       "      <td>29</td>\n",
       "    </tr>\n",
       "    <tr>\n",
       "      <th>All</th>\n",
       "      <td>35</td>\n",
       "      <td>58</td>\n",
       "      <td>48</td>\n",
       "      <td>22</td>\n",
       "      <td>38</td>\n",
       "      <td>59</td>\n",
       "      <td>52</td>\n",
       "      <td>44</td>\n",
       "      <td>356</td>\n",
       "    </tr>\n",
       "  </tbody>\n",
       "</table>\n",
       "</div>"
      ],
      "text/plain": [
       "Level                       2k17  2k18  2k19  2k21  300  400  500  600  All\n",
       "Department                                                                 \n",
       "Dentistry                      9    12     5     5    6   10    3    8   58\n",
       "Medical laboratory science     0    18    18     0    0    4    4    0   44\n",
       "Medicine and Surgery          26    28    16     8   32   39   40   36  225\n",
       "Physiotherapy                  0     0     9     9    0    6    5    0   29\n",
       "All                           35    58    48    22   38   59   52   44  356"
      ]
     },
     "execution_count": 6,
     "metadata": {},
     "output_type": "execute_result"
    }
   ],
   "source": [
    "pd.crosstab(index=df['Department'], \n",
    "                     columns=df['Level'], margins=True)"
   ]
  },
  {
   "cell_type": "code",
   "execution_count": null,
   "id": "5efe34eb",
   "metadata": {},
   "outputs": [],
   "source": []
  },
  {
   "cell_type": "code",
   "execution_count": null,
   "id": "efb240a1",
   "metadata": {},
   "outputs": [],
   "source": []
  },
  {
   "cell_type": "code",
   "execution_count": null,
   "id": "3d9d0b70",
   "metadata": {},
   "outputs": [],
   "source": []
  },
  {
   "cell_type": "code",
   "execution_count": null,
   "id": "fa22f822",
   "metadata": {},
   "outputs": [],
   "source": []
  },
  {
   "cell_type": "code",
   "execution_count": null,
   "id": "9f0b788a",
   "metadata": {},
   "outputs": [],
   "source": []
  },
  {
   "cell_type": "code",
   "execution_count": null,
   "id": "b20ba4d0",
   "metadata": {},
   "outputs": [],
   "source": []
  },
  {
   "cell_type": "code",
   "execution_count": null,
   "id": "d97563ce",
   "metadata": {},
   "outputs": [],
   "source": []
  },
  {
   "cell_type": "code",
   "execution_count": null,
   "id": "3c72e793",
   "metadata": {},
   "outputs": [],
   "source": []
  }
 ],
 "metadata": {
  "kernelspec": {
   "display_name": "Python 3 (ipykernel)",
   "language": "python",
   "name": "python3"
  },
  "language_info": {
   "codemirror_mode": {
    "name": "ipython",
    "version": 3
   },
   "file_extension": ".py",
   "mimetype": "text/x-python",
   "name": "python",
   "nbconvert_exporter": "python",
   "pygments_lexer": "ipython3",
   "version": "3.11.7"
  }
 },
 "nbformat": 4,
 "nbformat_minor": 5
}
